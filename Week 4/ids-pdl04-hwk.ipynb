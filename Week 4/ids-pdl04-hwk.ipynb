{
 "cells": [
  {
   "cell_type": "markdown",
   "metadata": {},
   "source": [
    "**ids-pdl04-hwk.ipynb**: This Jupyter notebook is provided by Joachim Vogt for the _Python Data Lab_ of the module _Introduction to Data Science_ offered in Fall 2022 at Jacobs University Bremen. Module instructors are Hilke Brockmann, Adalbert Wilhelm, and Joachim Vogt. Jupyter notebooks and other learning resources are available from a dedicated _module platform_."
   ]
  },
  {
   "cell_type": "markdown",
   "metadata": {},
   "source": [
    "# Homework assignments: NumPy basics"
   ]
  },
  {
   "cell_type": "markdown",
   "metadata": {},
   "source": [
    "The homework assignments in this notebook supplement the tutorial *NumPy basics*.\n",
    "\n",
    "- Solve the assignments according to the instructions.\n",
    "- Upload the completed notebook to the module platform.\n",
    "- Do not forget to enter your name in the markdown cell below.\n",
    "\n",
    "The homework set carries a total of 20 points. Square brackets in the assignment titles specify individual point contributions."
   ]
  },
  {
   "cell_type": "markdown",
   "metadata": {},
   "source": [
    "## Name: Joshua Law"
   ]
  },
  {
   "cell_type": "markdown",
   "metadata": {},
   "source": [
    "---\n",
    "---"
   ]
  },
  {
   "cell_type": "markdown",
   "metadata": {},
   "source": [
    "## Preparation"
   ]
  },
  {
   "cell_type": "markdown",
   "metadata": {},
   "source": [
    "Import the NumPy module in the standard way (prefix `np`)."
   ]
  },
  {
   "cell_type": "code",
   "execution_count": 2,
   "metadata": {},
   "outputs": [],
   "source": [
    "import numpy as np"
   ]
  },
  {
   "cell_type": "markdown",
   "metadata": {},
   "source": [
    "On the module platform you find data files of the form `pdl04dat_SID.txt` where `SID` is a three-digit student ID. Each file contains three timeseries of synthetic temperature measurements, provided for demonstrating the assignment *Functions of NumPy arrays*.\n",
    "\n",
    "- Identify the file `pdl04dat_SID.txt` with your personal student ID `SID`, then upload it to the working directory, i.e., the folder where this Jupyter notebook resides.\n",
    "- The files `pdl04dat_100.txt` and `pdl04sol_100.txt` are provided to demonstrate the assignment. Upload the two files also to the working directory."
   ]
  },
  {
   "cell_type": "markdown",
   "metadata": {},
   "source": [
    "## Assignment: NumPy arrays from Python lists [3]"
   ]
  },
  {
   "cell_type": "markdown",
   "metadata": {},
   "source": [
    "Complete the code cell below according to the instructions included as comments. In each case the resulting NumPy array and its `dtype` are to be displayed using the function `print()`."
   ]
  },
  {
   "cell_type": "code",
   "execution_count": 3,
   "metadata": {},
   "outputs": [
    {
     "name": "stdout",
     "output_type": "stream",
     "text": [
      "a01: [ 3  5  7 11  3  5  7 11  3  5  7 11] int32\n",
      "a02: [ 1  5  7 11  3  5  7 11  3  5  7  1] int32\n",
      "a03: [ 3  5 -7 11  3  5 -7 11  3  5  7 11] int32\n",
      "a04: [ 3.  5.  7. 11.  3.  5.  7. 11.  3.  5.  7. 11.] float64\n"
     ]
    },
    {
     "name": "stderr",
     "output_type": "stream",
     "text": [
      "C:\\Users\\lawjo\\AppData\\Local\\Temp\\ipykernel_20700\\812011790.py:15: DeprecationWarning: `np.float` is a deprecated alias for the builtin `float`. To silence this warning, use `float` by itself. Doing this will not modify any behavior and is safe. If you specifically wanted the numpy scalar type, use `np.float64` here.\n",
      "Deprecated in NumPy 1.20; for more details and guidance: https://numpy.org/devdocs/release/1.20.0-notes.html#deprecations\n",
      "  a04 = a04.astype(np.float)\n"
     ]
    }
   ],
   "source": [
    "### Consider the following one-dimensional NumPy array of integers\n",
    "a01 = np.array(3*[3,5,7,11])\n",
    "print('a01:',a01,a01.dtype)\n",
    "### Create a copy a02 of a01 with the first and the second-last element changed to unity (integer 1).\n",
    "a02 = np.copy(a01)\n",
    "a02[0] = 1\n",
    "a02[len(a02)-1] = 1\n",
    "print('a02:',a02,a02.dtype)\n",
    "### Create a copy a03 of a01, then apply striding to reverse the sign of every third element of a04.\n",
    "a03 = np.copy(a01)\n",
    "a03[2:7:4] = np.negative(a03[2:7:4])\n",
    "print('a03:',a03,a03.dtype)\n",
    "### Using np.array(), create a copy a04 of a01 but with entries of type float64.\n",
    "a04 =np.copy(a01)\n",
    "a04 = a04.astype(np.float)\n",
    "print('a04:',a04,a04.dtype)"
   ]
  },
  {
   "cell_type": "markdown",
   "metadata": {},
   "source": [
    "## Assignment: Multi-dimensional arrays [3]"
   ]
  },
  {
   "cell_type": "markdown",
   "metadata": {},
   "source": [
    "Complete the code cell below according to the instructions included as comments. In each case the resulting NumPy array is to be displayed using the function `print()`."
   ]
  },
  {
   "cell_type": "code",
   "execution_count": 19,
   "metadata": {},
   "outputs": [
    {
     "name": "stdout",
     "output_type": "stream",
     "text": [
      "[['a' 'b' 'c' 'd' 'e']\n",
      " ['f' 'g' 'h' 'i' 'j']\n",
      " ['k' 'l' 'm' 'n' 'o']]\n",
      "[['a' 'b' 'c' '1' 'e']\n",
      " ['f' 'g' 'h' '2' 'j']\n",
      " ['k' 'l' 'm' '3' 'o']]\n",
      "[['a' 'b' 'c' 'd' 'e']\n",
      " ['f' '4' '5' '6' 'j']\n",
      " ['k' 'l' 'm' 'n' 'o']]\n",
      "[['a' '7' 'c' '7' 'e']\n",
      " ['7' 'g' '7' 'i' '7']\n",
      " ['k' '7' 'm' '7' 'o']]\n"
     ]
    }
   ],
   "source": [
    "### Consider the following two-dimensional NumPy array of strings\n",
    "a05 = np.array(list('abcdefghijklmno')).reshape(3,5)\n",
    "print(a05)\n",
    "### Create a copy a06 of a05 and change the entries 'd','i','n' to '1','2','3'\n",
    "a06 = np.copy(a05)\n",
    "a06[0][3] = 1\n",
    "a06[1][3] = 2\n",
    "a06[2][3] = 3\n",
    "print(a06)\n",
    "### Create a copy a07 of a05 and change the entries 'g','h','i' to '4','5','6'\n",
    "a07 = np.copy(a05)\n",
    "a07[1][1] = 4\n",
    "a07[1][2] = 5\n",
    "a07[1][3] = 6\n",
    "print(a07)\n",
    "### In a05, replace every second character of the alphabet with '7'.\n",
    "a05[0][1:8:2] = 7\n",
    "a05[1][0:7:2] = 7\n",
    "a05[2][1:8:2] = 7\n",
    "print(a05)"
   ]
  },
  {
   "cell_type": "markdown",
   "metadata": {},
   "source": [
    "## Assignment: Uniform NumPy arrays and range expressions [4]"
   ]
  },
  {
   "cell_type": "markdown",
   "metadata": {},
   "source": [
    "Complete the code cell below according to the instructions included as comments. More specifically, replace the occurences of `42` with meaningful NumPy functions."
   ]
  },
  {
   "cell_type": "code",
   "execution_count": 33,
   "metadata": {},
   "outputs": [
    {
     "name": "stdout",
     "output_type": "stream",
     "text": [
      "[['Hil' 'Hil' 'Hil' 'Hil' 'Hil' 'Hil' 'Hil']\n",
      " ['Hil' 'Hil' 'Hil' 'Hil' 'Hil' 'Hil' 'Hil']]\n",
      "[[-999.9 -999.9 -999.9 -999.9 -999.9]\n",
      " [-999.9 -999.9 -999.9 -999.9 -999.9]\n",
      " [-999.9 -999.9 -999.9 -999.9 -999.9]]\n",
      "[23 20 17 14 11]\n",
      "[-2.3 -1.9 -1.5 -1.1]\n"
     ]
    }
   ],
   "source": [
    "### Using np.full(), print a uniform NumPy array of shape (2,7) filled with the string 'Hi!'.\n",
    "print(np.full((2,7),'Hil'))\n",
    "### Using np.ones(), print a uniform NumPy array of shape (3,5) filled with the float -999.9.\n",
    "print(np.full((3,5),-999.9))\n",
    "### Using np.arange(), print the one-dimensional integer array [23,20,17,14,11] (in this order).\n",
    "print(np.arange(23,10,-3))\n",
    "### Using np.linspace(), print the one-dimensional floating-point array [-2.3,-1.9,-1.5,-1.1].\n",
    "print(np.linspace(-2.3,-1.1,4))"
   ]
  },
  {
   "cell_type": "markdown",
   "metadata": {},
   "source": [
    "## Assignment: Array filtering using boolean masks [4]"
   ]
  },
  {
   "cell_type": "markdown",
   "metadata": {},
   "source": [
    "Complete the code cell below according to the instructions included as comments. In each case the resulting NumPy array is to be displayed using the function `print()`."
   ]
  },
  {
   "cell_type": "code",
   "execution_count": 64,
   "metadata": {},
   "outputs": [
    {
     "name": "stdout",
     "output_type": "stream",
     "text": [
      "[[  4  -6  -4  -3   1]\n",
      " [ -2   6   5 -10   8]\n",
      " [-10  -3  -3 -10 -10]]\n",
      "[[False  True  True  True False]\n",
      " [ True False False  True False]\n",
      " [ True  True  True  True  True]]\n",
      "[[ True  True  True False False]\n",
      " [ True  True False  True  True]\n",
      " [ True False False  True  True]]\n",
      "[[False  True  True False False]\n",
      " [ True False False  True False]\n",
      " [ True False False  True  True]]\n",
      "[[ 4 42 42 -3  1]\n",
      " [42  6  5 42  8]\n",
      " [42 -3 -3 42 42]]\n"
     ]
    }
   ],
   "source": [
    "### Consider the following two-dimensional array of integer random numbers in the interval [0,10].\n",
    "a08 = -10 + np.random.randint(21,size=(3,5))\n",
    "print(a08)\n",
    "### Create a boolean mask indicating negative numbers.\n",
    "print(a08 < 0)\n",
    "### Create a boolean mask indicating even numbers (hint: module operator %).\n",
    "print((a08%2)==0)\n",
    "### Create a boolean mask indicating negative even numbers.\n",
    "mask1 = (a08 <0)\n",
    "mask2 = ((a08%2)==0)\n",
    "mask3 = mask1 & mask2\n",
    "print(mask3)\n",
    "### Replace negative even numbers with the integer 42.\n",
    "a08[mask3] = 42\n",
    "print(a08)"
   ]
  },
  {
   "cell_type": "markdown",
   "metadata": {},
   "source": [
    "## Assignment: Functions of NumPy arrays [6]"
   ]
  },
  {
   "cell_type": "markdown",
   "metadata": {},
   "source": [
    "Consider the data files of the form `pdl04dat_SID.txt` where `SID` is a three-digit student ID. Each file contains timeseries of synthetic temperature measurements over one year at three stations A, B, and C in the second, third, and fourth column (column indices 1,2,3), respectively. The first column (index 0) contains a day counter."
   ]
  },
  {
   "cell_type": "markdown",
   "metadata": {},
   "source": [
    "Complete the code cell below according to the instructions included as comments. More specifically, replace the occurences of `42` with meaningful NumPy functions.\n",
    "\n",
    "- *Mean values of indiviual columms*: these are the annual means for the three stations A, B, C.\n",
    "- *Number of maxima within columns*: for each station X, this is the number of days when the temperature measured at X is the largest of all three stations. Hint: NumPy functions `argmax()` and `sum()`.\n",
    "- *Number of minima within columns*: for each station X, this is the number of days when the temperature measured at X is the smallest of all three stations. Hint: NumPy functions `argmin()` and `sum()`."
   ]
  },
  {
   "cell_type": "code",
   "execution_count": 79,
   "metadata": {},
   "outputs": [
    {
     "name": "stdout",
     "output_type": "stream",
     "text": [
      "\n",
      "\n",
      "Student-ID: 100\n",
      "\n",
      "\n",
      "Station A, annual mean: 290.611\n",
      "Station B, annual mean: 290.326\n",
      "Station C, annual mean: 290.764\n",
      "\n",
      "\n",
      "Station A, number of maxima: 135\n",
      "Station B, number of maxima:  92\n",
      "Station C, number of maxima: 138\n",
      "\n",
      "\n",
      "Station A, number of minima: 131\n",
      "Station B, number of minima: 108\n",
      "Station C, number of minima: 126\n",
      "\n",
      "\n"
     ]
    }
   ],
   "source": [
    "### Test the code with SID=100, then use your personal student ID for the final run of the notebook.\n",
    "SID = 100\n",
    "### Store all four columns of the file pdl04dat_SID.txt in the two-dimensional array data.\n",
    "data = np.genfromtxt('pdl04dat_'+str(SID)+'.txt',skip_header=1)\n",
    "### Remove the first column of the two-dimensional array data.\n",
    "data = data[:,1:]\n",
    "### Print: student ID and empty line.\n",
    "print('\\n')\n",
    "print('Student-ID: {}'.format(SID))\n",
    "print('\\n')\n",
    "#.. Print: mean values of individual columns.\n",
    "print('Station A, annual mean: {:7.3f}'.format(data[:,0].mean(axis=0)))\n",
    "print('Station B, annual mean: {:7.3f}'.format(data[:,1].mean(axis=0)))\n",
    "print('Station C, annual mean: {:7.3f}'.format(data[:,2].mean(axis=0)))\n",
    "print('\\n')\n",
    "#.. Print: number of maxima within columns.\n",
    "max = np.argmax(data,axis=1)\n",
    "maxima = [0,0,0]\n",
    "for i in range (len(max)):\n",
    "    maxima[max[i]]+=1\n",
    "print('Station A, number of maxima: {:3d}'.format(maxima[0]))\n",
    "print('Station B, number of maxima: {:3d}'.format(maxima[1]))\n",
    "print('Station C, number of maxima: {:3d}'.format(maxima[2]))\n",
    "print('\\n')\n",
    "#.. Print: number of minima within columns.\n",
    "min = np.argmin(data,axis=1)\n",
    "minima = [0,0,0]\n",
    "for i in range(len(min)):\n",
    "    minima[min[i]]+=1\n",
    "print('Station A, number of minima: {:3d}'.format(minima[0]))\n",
    "print('Station B, number of minima: {:3d}'.format(minima[1]))\n",
    "print('Station C, number of minima: {:3d}'.format(minima[2]))\n",
    "print('\\n')"
   ]
  },
  {
   "cell_type": "markdown",
   "metadata": {},
   "source": [
    "Here is the output that you should obtain for `SID = 100`, i.e., for the sample data file `pdl04dat_100.txt`."
   ]
  },
  {
   "cell_type": "code",
   "execution_count": 66,
   "metadata": {},
   "outputs": [
    {
     "name": "stdout",
     "output_type": "stream",
     "text": [
      "\n",
      "Student-ID: 100\n",
      "\n",
      "Station A, annual mean: 290.611\n",
      "Station B, annual mean: 290.326\n",
      "Station C, annual mean: 290.764\n",
      "\n",
      "Station A, number of maxima: 135\n",
      "Station B, number of maxima:  92\n",
      "Station C, number of maxima: 138\n",
      "\n",
      "Station A, number of minima: 131\n",
      "Station B, number of minima: 108\n",
      "Station C, number of minima: 126\n",
      "\n",
      "\n"
     ]
    }
   ],
   "source": [
    "f = open('pdl04sol_100.txt','r')\n",
    "smpout = f.read()\n",
    "f.close()\n",
    "print(smpout)"
   ]
  },
  {
   "cell_type": "markdown",
   "metadata": {},
   "source": [
    "---\n",
    "---"
   ]
  }
 ],
 "metadata": {
  "kernelspec": {
   "display_name": "Python 3.9.12 ('base')",
   "language": "python",
   "name": "python3"
  },
  "language_info": {
   "codemirror_mode": {
    "name": "ipython",
    "version": 3
   },
   "file_extension": ".py",
   "mimetype": "text/x-python",
   "name": "python",
   "nbconvert_exporter": "python",
   "pygments_lexer": "ipython3",
   "version": "3.9.12"
  },
  "vscode": {
   "interpreter": {
    "hash": "9bc286b0a0b5031f51e8f5ca9ea244d34389e13ce7e7c61f775fbbcd30b022d5"
   }
  }
 },
 "nbformat": 4,
 "nbformat_minor": 4
}
