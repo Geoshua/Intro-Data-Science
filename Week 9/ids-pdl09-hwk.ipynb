{
 "cells": [
  {
   "cell_type": "markdown",
   "metadata": {},
   "source": [
    "**ids-pdl09-hwk.ipynb**: This Jupyter notebook is provided by Joachim Vogt for the _Python Data Lab_ of the module _Introduction to Data Science_ offered in Fall 2022 at Jacobs University Bremen. Module instructors are Hilke Brockmann, Adalbert Wilhelm, and Joachim Vogt. Jupyter notebooks and other learning resources are available from a dedicated _module platform_."
   ]
  },
  {
   "cell_type": "markdown",
   "metadata": {},
   "source": [
    "# Homework assignments: Working with Pandas"
   ]
  },
  {
   "cell_type": "markdown",
   "metadata": {},
   "source": [
    "The homework assignments in this notebook supplement the tutorial *Working with Pandas*.\n",
    "\n",
    "- Solve the assignments according to the instructions.\n",
    "- Upload the completed notebook to the module platform.\n",
    "- Do not forget to enter your name in the markdown cell below.\n",
    "\n",
    "The homework set carries a total of 20 points. Square brackets in the assignment titles specify individual point contributions."
   ]
  },
  {
   "cell_type": "markdown",
   "metadata": {},
   "source": [
    "## Name:Joshua Law"
   ]
  },
  {
   "cell_type": "markdown",
   "metadata": {},
   "source": [
    "---\n",
    "---"
   ]
  },
  {
   "cell_type": "markdown",
   "metadata": {},
   "source": [
    "## Preparation"
   ]
  },
  {
   "cell_type": "markdown",
   "metadata": {},
   "source": [
    "Import NumPy, `pyplot` from matplotlib, and Pandas as usual."
   ]
  },
  {
   "cell_type": "code",
   "execution_count": 110,
   "metadata": {},
   "outputs": [],
   "source": [
    "import numpy as np\n",
    "import matplotlib.pyplot as plt\n",
    "import pandas as pd\n",
    "%matplotlib inline"
   ]
  },
  {
   "cell_type": "markdown",
   "metadata": {},
   "source": [
    "The following data files are expected to reside in the working directory. Identify the files on the module platform and upload them to the same folder as this Jupyter notebook.\n",
    "\n",
    "- `gdp-per-capita-in-us-dollar-world-bank.csv`: GDP per capita in constant 2010 US dollars 1960-2020, published by the [World Bank, 2021-07-30](http://data.worldbank.org/data-catalog/world-development-indicators), available from [Our World in Data](https://ourworldindata.org/grapher/gdp-per-capita-in-us-dollar-world-bank).\n",
    "- `life-expectancy-at-birth-total-years.csv`: Life expectancy at birth 1960-2019, published by the [World Bank, 2021-07-30](http://data.worldbank.org/data-catalog/world-development-indicators), available from [Our World in Data](https://ourworldindata.org/grapher/life-expectancy-at-birth-total-years).\n",
    "- `leb_gdpint_decade.png`: graphics of a table to be reproduced in the assignment *Pivot tables*."
   ]
  },
  {
   "cell_type": "markdown",
   "metadata": {},
   "source": [
    "## Assignment: Hierarchical indexing [5]"
   ]
  },
  {
   "cell_type": "markdown",
   "metadata": {},
   "source": [
    "According to [Wikipedia (accessed on 2022-07-26)](https://de.wikipedia.org/wiki/Liste_der_Gro%C3%9F-_und_Mittelst%C3%A4dte_in_Deutschland), the resident numbers of Berlin, Cologne, Hamburg, Munich in the years 1980, 2000, 2020/21 were as follows.\n",
    "\n",
    "| City     | 1980    | 2000    | 2020/21 |\n",
    "|:---------|:-------:|:-------:|:-------:|\n",
    "| Berlin   | 3048759 | 3382169 | 3677472 | \t\n",
    "| Cologne  |  976694 |  962884 | 1073096 |\n",
    "| Hamburg  | 1645095 | 1715392 | 1853935 |\n",
    "| Munich   | 1298941 | 1210223 | 1487708 |\n",
    "\n",
    "In the cell below,\n",
    "\n",
    "1. store the three sets of resident numbers for the years 1980, 2000, 2020/21 in a single Pandas DataFrame object `ResA` indexed by the city names,\n",
    "2. apply the function `stack()` to `ResA` and store the result in a Pandas Series object `ResB`,\n",
    "3. from `ResB` obtain the index (a MultiIndex object) and store it as `IndB`,  \n",
    "4. using the Pandas function `MultiIndex.from_arrays()`, construct a MultiIndex object `IndC` identical to `IndB`,\n",
    "5. using the Pandas function `MultiIndex.from_product()`, construct a MultiIndex object `IndD` identical to `IndB`."
   ]
  },
  {
   "cell_type": "code",
   "execution_count": 111,
   "metadata": {},
   "outputs": [
    {
     "data": {
      "text/html": [
       "<div>\n",
       "<style scoped>\n",
       "    .dataframe tbody tr th:only-of-type {\n",
       "        vertical-align: middle;\n",
       "    }\n",
       "\n",
       "    .dataframe tbody tr th {\n",
       "        vertical-align: top;\n",
       "    }\n",
       "\n",
       "    .dataframe thead th {\n",
       "        text-align: right;\n",
       "    }\n",
       "</style>\n",
       "<table border=\"1\" class=\"dataframe\">\n",
       "  <thead>\n",
       "    <tr style=\"text-align: right;\">\n",
       "      <th></th>\n",
       "      <th>1980</th>\n",
       "      <th>2000</th>\n",
       "      <th>2020/21</th>\n",
       "    </tr>\n",
       "  </thead>\n",
       "  <tbody>\n",
       "    <tr>\n",
       "      <th>Berlin</th>\n",
       "      <td>3048759</td>\n",
       "      <td>3382169</td>\n",
       "      <td>3677472</td>\n",
       "    </tr>\n",
       "    <tr>\n",
       "      <th>Cologne</th>\n",
       "      <td>976694</td>\n",
       "      <td>962884</td>\n",
       "      <td>1073096</td>\n",
       "    </tr>\n",
       "    <tr>\n",
       "      <th>Hamburg</th>\n",
       "      <td>1645095</td>\n",
       "      <td>1715392</td>\n",
       "      <td>1853935</td>\n",
       "    </tr>\n",
       "    <tr>\n",
       "      <th>Munich</th>\n",
       "      <td>1298941</td>\n",
       "      <td>1210223</td>\n",
       "      <td>1487708</td>\n",
       "    </tr>\n",
       "  </tbody>\n",
       "</table>\n",
       "</div>"
      ],
      "text/plain": [
       "            1980     2000  2020/21\n",
       "Berlin   3048759  3382169  3677472\n",
       "Cologne   976694   962884  1073096\n",
       "Hamburg  1645095  1715392  1853935\n",
       "Munich   1298941  1210223  1487708"
      ]
     },
     "metadata": {},
     "output_type": "display_data"
    },
    {
     "data": {
      "text/plain": [
       "Berlin   1980       3048759\n",
       "         2000       3382169\n",
       "         2020/21    3677472\n",
       "Cologne  1980        976694\n",
       "         2000        962884\n",
       "         2020/21    1073096\n",
       "Hamburg  1980       1645095\n",
       "         2000       1715392\n",
       "         2020/21    1853935\n",
       "Munich   1980       1298941\n",
       "         2000       1210223\n",
       "         2020/21    1487708\n",
       "dtype: int64"
      ]
     },
     "metadata": {},
     "output_type": "display_data"
    },
    {
     "data": {
      "text/plain": [
       "MultiIndex([( 'Berlin',    '1980'),\n",
       "            ( 'Berlin',    '2000'),\n",
       "            ( 'Berlin', '2020/21'),\n",
       "            ('Cologne',    '1980'),\n",
       "            ('Cologne',    '2000'),\n",
       "            ('Cologne', '2020/21'),\n",
       "            ('Hamburg',    '1980'),\n",
       "            ('Hamburg',    '2000'),\n",
       "            ('Hamburg', '2020/21'),\n",
       "            ( 'Munich',    '1980'),\n",
       "            ( 'Munich',    '2000'),\n",
       "            ( 'Munich', '2020/21')],\n",
       "           )"
      ]
     },
     "metadata": {},
     "output_type": "display_data"
    },
    {
     "data": {
      "text/plain": [
       "MultiIndex([('Berlin', 'Berlin',  'Berlin', 'Cologne', 'Cologne', ...),\n",
       "            (  '1980',   '2000', '2020/21',    '1980',    '2000', ...)],\n",
       "           )"
      ]
     },
     "metadata": {},
     "output_type": "display_data"
    },
    {
     "data": {
      "text/plain": [
       "MultiIndex([('Berlin', 'Berlin',  'Berlin', 'Cologne', 'Cologne', ...),\n",
       "            ('Berlin', 'Berlin',  'Berlin', 'Cologne', 'Cologne', ...),\n",
       "            ('Berlin', 'Berlin',  'Berlin', 'Cologne', 'Cologne', ...),\n",
       "            ('Berlin', 'Berlin',  'Berlin', 'Cologne', 'Cologne', ...),\n",
       "            ('Berlin', 'Berlin',  'Berlin', 'Cologne', 'Cologne', ...),\n",
       "            ('Berlin', 'Berlin',  'Berlin', 'Cologne', 'Cologne', ...),\n",
       "            ('Berlin', 'Berlin',  'Berlin', 'Cologne', 'Cologne', ...),\n",
       "            ('Berlin', 'Berlin',  'Berlin', 'Cologne', 'Cologne', ...),\n",
       "            ('Berlin', 'Berlin',  'Berlin', 'Cologne', 'Cologne', ...),\n",
       "            ('Berlin', 'Berlin',  'Berlin', 'Cologne', 'Cologne', ...),\n",
       "            ...\n",
       "            (  '1980',   '2000', '2020/21',    '1980',    '2000', ...),\n",
       "            (  '1980',   '2000', '2020/21',    '1980',    '2000', ...),\n",
       "            (  '1980',   '2000', '2020/21',    '1980',    '2000', ...),\n",
       "            (  '1980',   '2000', '2020/21',    '1980',    '2000', ...),\n",
       "            (  '1980',   '2000', '2020/21',    '1980',    '2000', ...),\n",
       "            (  '1980',   '2000', '2020/21',    '1980',    '2000', ...),\n",
       "            (  '1980',   '2000', '2020/21',    '1980',    '2000', ...),\n",
       "            (  '1980',   '2000', '2020/21',    '1980',    '2000', ...),\n",
       "            (  '1980',   '2000', '2020/21',    '1980',    '2000', ...),\n",
       "            (  '1980',   '2000', '2020/21',    '1980',    '2000', ...)],\n",
       "           length=4096)"
      ]
     },
     "metadata": {},
     "output_type": "display_data"
    }
   ],
   "source": [
    "### Construct and display Pandas DataFrame ResA.\n",
    "from inspect import stack\n",
    "\n",
    "\n",
    "ResA = pd.DataFrame({'1980':[3048759,976694,1645095,1298941],'2000':[3382169,962884,1715392,1210223],'2020/21':[3677472,1073096,1853935,1487708]},index=['Berlin','Cologne','Hamburg','Munich'])\n",
    "display(ResA)\n",
    "### Stack ResA to obtain ResB.\n",
    "ResB = ResA.stack()\n",
    "display(ResB)\n",
    "### Store the index of ResB in variable IndB, then display.\n",
    "IndB = ResB.index\n",
    "display(IndB)\n",
    "### Construct and display MultiIndex object IndC from arrays.\n",
    "IndC = pd.MultiIndex.from_arrays(IndB)\n",
    "display(IndC)\n",
    "### Construct and display MultiIndex object IndD from product.\n",
    "IndD = pd.MultiIndex.from_product(IndB)\n",
    "display(IndD)"
   ]
  },
  {
   "cell_type": "markdown",
   "metadata": {},
   "source": [
    "## Assignment: GroupBy mechanism [8]"
   ]
  },
  {
   "cell_type": "markdown",
   "metadata": {},
   "source": [
    "The file `gdp-per-capita-in-us-dollar-world-bank.csv` contains data on GDP per capita in constant 2010 US dollars 1960-2020, as published by the [World Bank on 2021-07-30](http://data.worldbank.org/data-catalog/world-development-indicators), and made available through [Our World in Data](https://ourworldindata.org/grapher/gdp-per-capita-in-us-dollar-world-bank).\n",
    "\n",
    "- Click on the filename in the directory listing to display the content of this comma-separated text file to study the structure.\n",
    "- Consult the associated tutorial notebook `ids-pdl09-tut.ipynb` and study how the data from the file `life-expectancy-at-birth-total-years.csv` are processed.\n",
    "- The same processing steps are to be applied to the GDP per capita data from the file `gdp-per-capita-in-us-dollar-world-bank.csv`. Details are given below."
   ]
  },
  {
   "cell_type": "markdown",
   "metadata": {},
   "source": [
    "Using the Pandas function `read_csv()`, the data are loaded and stored in a DataFrame."
   ]
  },
  {
   "cell_type": "code",
   "execution_count": 112,
   "metadata": {},
   "outputs": [
    {
     "data": {
      "text/html": [
       "<div>\n",
       "<style scoped>\n",
       "    .dataframe tbody tr th:only-of-type {\n",
       "        vertical-align: middle;\n",
       "    }\n",
       "\n",
       "    .dataframe tbody tr th {\n",
       "        vertical-align: top;\n",
       "    }\n",
       "\n",
       "    .dataframe thead th {\n",
       "        text-align: right;\n",
       "    }\n",
       "</style>\n",
       "<table border=\"1\" class=\"dataframe\">\n",
       "  <thead>\n",
       "    <tr style=\"text-align: right;\">\n",
       "      <th></th>\n",
       "      <th>Entity</th>\n",
       "      <th>Code</th>\n",
       "      <th>Year</th>\n",
       "      <th>GDP per capita (constant 2010 US$)</th>\n",
       "    </tr>\n",
       "  </thead>\n",
       "  <tbody>\n",
       "    <tr>\n",
       "      <th>0</th>\n",
       "      <td>Afghanistan</td>\n",
       "      <td>AFG</td>\n",
       "      <td>2002</td>\n",
       "      <td>330.303494</td>\n",
       "    </tr>\n",
       "    <tr>\n",
       "      <th>1</th>\n",
       "      <td>Afghanistan</td>\n",
       "      <td>AFG</td>\n",
       "      <td>2003</td>\n",
       "      <td>343.080890</td>\n",
       "    </tr>\n",
       "    <tr>\n",
       "      <th>2</th>\n",
       "      <td>Afghanistan</td>\n",
       "      <td>AFG</td>\n",
       "      <td>2004</td>\n",
       "      <td>333.216617</td>\n",
       "    </tr>\n",
       "    <tr>\n",
       "      <th>3</th>\n",
       "      <td>Afghanistan</td>\n",
       "      <td>AFG</td>\n",
       "      <td>2005</td>\n",
       "      <td>357.234762</td>\n",
       "    </tr>\n",
       "    <tr>\n",
       "      <th>4</th>\n",
       "      <td>Afghanistan</td>\n",
       "      <td>AFG</td>\n",
       "      <td>2006</td>\n",
       "      <td>365.284371</td>\n",
       "    </tr>\n",
       "    <tr>\n",
       "      <th>...</th>\n",
       "      <td>...</td>\n",
       "      <td>...</td>\n",
       "      <td>...</td>\n",
       "      <td>...</td>\n",
       "    </tr>\n",
       "    <tr>\n",
       "      <th>12147</th>\n",
       "      <td>Zimbabwe</td>\n",
       "      <td>ZWE</td>\n",
       "      <td>2016</td>\n",
       "      <td>1224.314460</td>\n",
       "    </tr>\n",
       "    <tr>\n",
       "      <th>12148</th>\n",
       "      <td>Zimbabwe</td>\n",
       "      <td>ZWE</td>\n",
       "      <td>2017</td>\n",
       "      <td>1263.278346</td>\n",
       "    </tr>\n",
       "    <tr>\n",
       "      <th>12149</th>\n",
       "      <td>Zimbabwe</td>\n",
       "      <td>ZWE</td>\n",
       "      <td>2018</td>\n",
       "      <td>1289.146499</td>\n",
       "    </tr>\n",
       "    <tr>\n",
       "      <th>12150</th>\n",
       "      <td>Zimbabwe</td>\n",
       "      <td>ZWE</td>\n",
       "      <td>2019</td>\n",
       "      <td>1168.008072</td>\n",
       "    </tr>\n",
       "    <tr>\n",
       "      <th>12151</th>\n",
       "      <td>Zimbabwe</td>\n",
       "      <td>ZWE</td>\n",
       "      <td>2020</td>\n",
       "      <td>1058.845827</td>\n",
       "    </tr>\n",
       "  </tbody>\n",
       "</table>\n",
       "<p>12152 rows × 4 columns</p>\n",
       "</div>"
      ],
      "text/plain": [
       "            Entity Code  Year  GDP per capita (constant 2010 US$)\n",
       "0      Afghanistan  AFG  2002                          330.303494\n",
       "1      Afghanistan  AFG  2003                          343.080890\n",
       "2      Afghanistan  AFG  2004                          333.216617\n",
       "3      Afghanistan  AFG  2005                          357.234762\n",
       "4      Afghanistan  AFG  2006                          365.284371\n",
       "...            ...  ...   ...                                 ...\n",
       "12147     Zimbabwe  ZWE  2016                         1224.314460\n",
       "12148     Zimbabwe  ZWE  2017                         1263.278346\n",
       "12149     Zimbabwe  ZWE  2018                         1289.146499\n",
       "12150     Zimbabwe  ZWE  2019                         1168.008072\n",
       "12151     Zimbabwe  ZWE  2020                         1058.845827\n",
       "\n",
       "[12152 rows x 4 columns]"
      ]
     },
     "metadata": {},
     "output_type": "display_data"
    }
   ],
   "source": [
    "gdp_full = pd.read_csv(\"gdp-per-capita-in-us-dollar-world-bank.csv\")\n",
    "display(gdp_full)"
   ]
  },
  {
   "cell_type": "markdown",
   "metadata": {},
   "source": [
    "From the full DataFrame `gdp_full`, remove rows for entities that are not single countries but world regions."
   ]
  },
  {
   "cell_type": "code",
   "execution_count": 113,
   "metadata": {},
   "outputs": [
    {
     "name": "stderr",
     "output_type": "stream",
     "text": [
      "C:\\Users\\lawjo\\AppData\\Local\\Temp\\ipykernel_25936\\2309287392.py:1: FutureWarning: In a future version of pandas all arguments of DataFrame.any and Series.any will be keyword-only.\n",
      "  gdp_full = gdp_full[gdp_full.isnull().any(1)]\n"
     ]
    },
    {
     "data": {
      "text/html": [
       "<div>\n",
       "<style scoped>\n",
       "    .dataframe tbody tr th:only-of-type {\n",
       "        vertical-align: middle;\n",
       "    }\n",
       "\n",
       "    .dataframe tbody tr th {\n",
       "        vertical-align: top;\n",
       "    }\n",
       "\n",
       "    .dataframe thead th {\n",
       "        text-align: right;\n",
       "    }\n",
       "</style>\n",
       "<table border=\"1\" class=\"dataframe\">\n",
       "  <thead>\n",
       "    <tr style=\"text-align: right;\">\n",
       "      <th></th>\n",
       "      <th>Entity</th>\n",
       "      <th>Code</th>\n",
       "      <th>Year</th>\n",
       "      <th>GDP per capita (constant 2010 US$)</th>\n",
       "    </tr>\n",
       "  </thead>\n",
       "  <tbody>\n",
       "    <tr>\n",
       "      <th>19</th>\n",
       "      <td>Africa Eastern and Southern</td>\n",
       "      <td>NaN</td>\n",
       "      <td>1960</td>\n",
       "      <td>1180.425371</td>\n",
       "    </tr>\n",
       "    <tr>\n",
       "      <th>20</th>\n",
       "      <td>Africa Eastern and Southern</td>\n",
       "      <td>NaN</td>\n",
       "      <td>1961</td>\n",
       "      <td>1163.432401</td>\n",
       "    </tr>\n",
       "    <tr>\n",
       "      <th>21</th>\n",
       "      <td>Africa Eastern and Southern</td>\n",
       "      <td>NaN</td>\n",
       "      <td>1962</td>\n",
       "      <td>1218.764175</td>\n",
       "    </tr>\n",
       "    <tr>\n",
       "      <th>22</th>\n",
       "      <td>Africa Eastern and Southern</td>\n",
       "      <td>NaN</td>\n",
       "      <td>1963</td>\n",
       "      <td>1255.986048</td>\n",
       "    </tr>\n",
       "    <tr>\n",
       "      <th>23</th>\n",
       "      <td>Africa Eastern and Southern</td>\n",
       "      <td>NaN</td>\n",
       "      <td>1964</td>\n",
       "      <td>1290.749907</td>\n",
       "    </tr>\n",
       "    <tr>\n",
       "      <th>...</th>\n",
       "      <td>...</td>\n",
       "      <td>...</td>\n",
       "      <td>...</td>\n",
       "      <td>...</td>\n",
       "    </tr>\n",
       "    <tr>\n",
       "      <th>11706</th>\n",
       "      <td>Upper middle income</td>\n",
       "      <td>NaN</td>\n",
       "      <td>2016</td>\n",
       "      <td>7996.027814</td>\n",
       "    </tr>\n",
       "    <tr>\n",
       "      <th>11707</th>\n",
       "      <td>Upper middle income</td>\n",
       "      <td>NaN</td>\n",
       "      <td>2017</td>\n",
       "      <td>8323.758524</td>\n",
       "    </tr>\n",
       "    <tr>\n",
       "      <th>11708</th>\n",
       "      <td>Upper middle income</td>\n",
       "      <td>NaN</td>\n",
       "      <td>2018</td>\n",
       "      <td>8645.607976</td>\n",
       "    </tr>\n",
       "    <tr>\n",
       "      <th>11709</th>\n",
       "      <td>Upper middle income</td>\n",
       "      <td>NaN</td>\n",
       "      <td>2019</td>\n",
       "      <td>8920.750691</td>\n",
       "    </tr>\n",
       "    <tr>\n",
       "      <th>11710</th>\n",
       "      <td>Upper middle income</td>\n",
       "      <td>NaN</td>\n",
       "      <td>2020</td>\n",
       "      <td>8773.875288</td>\n",
       "    </tr>\n",
       "  </tbody>\n",
       "</table>\n",
       "<p>2566 rows × 4 columns</p>\n",
       "</div>"
      ],
      "text/plain": [
       "                            Entity Code  Year  \\\n",
       "19     Africa Eastern and Southern  NaN  1960   \n",
       "20     Africa Eastern and Southern  NaN  1961   \n",
       "21     Africa Eastern and Southern  NaN  1962   \n",
       "22     Africa Eastern and Southern  NaN  1963   \n",
       "23     Africa Eastern and Southern  NaN  1964   \n",
       "...                            ...  ...   ...   \n",
       "11706          Upper middle income  NaN  2016   \n",
       "11707          Upper middle income  NaN  2017   \n",
       "11708          Upper middle income  NaN  2018   \n",
       "11709          Upper middle income  NaN  2019   \n",
       "11710          Upper middle income  NaN  2020   \n",
       "\n",
       "       GDP per capita (constant 2010 US$)  \n",
       "19                            1180.425371  \n",
       "20                            1163.432401  \n",
       "21                            1218.764175  \n",
       "22                            1255.986048  \n",
       "23                            1290.749907  \n",
       "...                                   ...  \n",
       "11706                         7996.027814  \n",
       "11707                         8323.758524  \n",
       "11708                         8645.607976  \n",
       "11709                         8920.750691  \n",
       "11710                         8773.875288  \n",
       "\n",
       "[2566 rows x 4 columns]"
      ]
     },
     "metadata": {},
     "output_type": "display_data"
    }
   ],
   "source": [
    "gdp_full = gdp_full[gdp_full.isnull().any(1)]\n",
    "display(gdp_full)"
   ]
  },
  {
   "cell_type": "markdown",
   "metadata": {},
   "source": [
    "Rename the GDP per capita column label to `'GDP/cap.'`."
   ]
  },
  {
   "cell_type": "code",
   "execution_count": 114,
   "metadata": {},
   "outputs": [
    {
     "data": {
      "text/html": [
       "<div>\n",
       "<style scoped>\n",
       "    .dataframe tbody tr th:only-of-type {\n",
       "        vertical-align: middle;\n",
       "    }\n",
       "\n",
       "    .dataframe tbody tr th {\n",
       "        vertical-align: top;\n",
       "    }\n",
       "\n",
       "    .dataframe thead th {\n",
       "        text-align: right;\n",
       "    }\n",
       "</style>\n",
       "<table border=\"1\" class=\"dataframe\">\n",
       "  <thead>\n",
       "    <tr style=\"text-align: right;\">\n",
       "      <th></th>\n",
       "      <th>Entity</th>\n",
       "      <th>Code</th>\n",
       "      <th>Year</th>\n",
       "      <th>GDP/cap.</th>\n",
       "    </tr>\n",
       "  </thead>\n",
       "  <tbody>\n",
       "    <tr>\n",
       "      <th>19</th>\n",
       "      <td>Africa Eastern and Southern</td>\n",
       "      <td>NaN</td>\n",
       "      <td>1960</td>\n",
       "      <td>1180.425371</td>\n",
       "    </tr>\n",
       "    <tr>\n",
       "      <th>20</th>\n",
       "      <td>Africa Eastern and Southern</td>\n",
       "      <td>NaN</td>\n",
       "      <td>1961</td>\n",
       "      <td>1163.432401</td>\n",
       "    </tr>\n",
       "    <tr>\n",
       "      <th>21</th>\n",
       "      <td>Africa Eastern and Southern</td>\n",
       "      <td>NaN</td>\n",
       "      <td>1962</td>\n",
       "      <td>1218.764175</td>\n",
       "    </tr>\n",
       "    <tr>\n",
       "      <th>22</th>\n",
       "      <td>Africa Eastern and Southern</td>\n",
       "      <td>NaN</td>\n",
       "      <td>1963</td>\n",
       "      <td>1255.986048</td>\n",
       "    </tr>\n",
       "    <tr>\n",
       "      <th>23</th>\n",
       "      <td>Africa Eastern and Southern</td>\n",
       "      <td>NaN</td>\n",
       "      <td>1964</td>\n",
       "      <td>1290.749907</td>\n",
       "    </tr>\n",
       "    <tr>\n",
       "      <th>...</th>\n",
       "      <td>...</td>\n",
       "      <td>...</td>\n",
       "      <td>...</td>\n",
       "      <td>...</td>\n",
       "    </tr>\n",
       "    <tr>\n",
       "      <th>11706</th>\n",
       "      <td>Upper middle income</td>\n",
       "      <td>NaN</td>\n",
       "      <td>2016</td>\n",
       "      <td>7996.027814</td>\n",
       "    </tr>\n",
       "    <tr>\n",
       "      <th>11707</th>\n",
       "      <td>Upper middle income</td>\n",
       "      <td>NaN</td>\n",
       "      <td>2017</td>\n",
       "      <td>8323.758524</td>\n",
       "    </tr>\n",
       "    <tr>\n",
       "      <th>11708</th>\n",
       "      <td>Upper middle income</td>\n",
       "      <td>NaN</td>\n",
       "      <td>2018</td>\n",
       "      <td>8645.607976</td>\n",
       "    </tr>\n",
       "    <tr>\n",
       "      <th>11709</th>\n",
       "      <td>Upper middle income</td>\n",
       "      <td>NaN</td>\n",
       "      <td>2019</td>\n",
       "      <td>8920.750691</td>\n",
       "    </tr>\n",
       "    <tr>\n",
       "      <th>11710</th>\n",
       "      <td>Upper middle income</td>\n",
       "      <td>NaN</td>\n",
       "      <td>2020</td>\n",
       "      <td>8773.875288</td>\n",
       "    </tr>\n",
       "  </tbody>\n",
       "</table>\n",
       "<p>2566 rows × 4 columns</p>\n",
       "</div>"
      ],
      "text/plain": [
       "                            Entity Code  Year     GDP/cap.\n",
       "19     Africa Eastern and Southern  NaN  1960  1180.425371\n",
       "20     Africa Eastern and Southern  NaN  1961  1163.432401\n",
       "21     Africa Eastern and Southern  NaN  1962  1218.764175\n",
       "22     Africa Eastern and Southern  NaN  1963  1255.986048\n",
       "23     Africa Eastern and Southern  NaN  1964  1290.749907\n",
       "...                            ...  ...   ...          ...\n",
       "11706          Upper middle income  NaN  2016  7996.027814\n",
       "11707          Upper middle income  NaN  2017  8323.758524\n",
       "11708          Upper middle income  NaN  2018  8645.607976\n",
       "11709          Upper middle income  NaN  2019  8920.750691\n",
       "11710          Upper middle income  NaN  2020  8773.875288\n",
       "\n",
       "[2566 rows x 4 columns]"
      ]
     },
     "execution_count": 114,
     "metadata": {},
     "output_type": "execute_result"
    }
   ],
   "source": [
    "gdp_full.rename(columns={\"GDP per capita (constant 2010 US$)\":\"GDP/cap.\"})"
   ]
  },
  {
   "cell_type": "markdown",
   "metadata": {},
   "source": [
    "Store the column of GDP per capita values."
   ]
  },
  {
   "cell_type": "code",
   "execution_count": 132,
   "metadata": {},
   "outputs": [
    {
     "ename": "KeyError",
     "evalue": "'GDP/cap.'",
     "output_type": "error",
     "traceback": [
      "\u001b[1;31m---------------------------------------------------------------------------\u001b[0m",
      "\u001b[1;31mKeyError\u001b[0m                                  Traceback (most recent call last)",
      "File \u001b[1;32mc:\\Users\\lawjo\\miniconda3\\lib\\site-packages\\pandas\\core\\indexes\\base.py:3803\u001b[0m, in \u001b[0;36mIndex.get_loc\u001b[1;34m(self, key, method, tolerance)\u001b[0m\n\u001b[0;32m   3802\u001b[0m \u001b[39mtry\u001b[39;00m:\n\u001b[1;32m-> 3803\u001b[0m     \u001b[39mreturn\u001b[39;00m \u001b[39mself\u001b[39;49m\u001b[39m.\u001b[39;49m_engine\u001b[39m.\u001b[39;49mget_loc(casted_key)\n\u001b[0;32m   3804\u001b[0m \u001b[39mexcept\u001b[39;00m \u001b[39mKeyError\u001b[39;00m \u001b[39mas\u001b[39;00m err:\n",
      "File \u001b[1;32mc:\\Users\\lawjo\\miniconda3\\lib\\site-packages\\pandas\\_libs\\index.pyx:138\u001b[0m, in \u001b[0;36mpandas._libs.index.IndexEngine.get_loc\u001b[1;34m()\u001b[0m\n",
      "File \u001b[1;32mc:\\Users\\lawjo\\miniconda3\\lib\\site-packages\\pandas\\_libs\\index.pyx:165\u001b[0m, in \u001b[0;36mpandas._libs.index.IndexEngine.get_loc\u001b[1;34m()\u001b[0m\n",
      "File \u001b[1;32mpandas\\_libs\\hashtable_class_helper.pxi:5745\u001b[0m, in \u001b[0;36mpandas._libs.hashtable.PyObjectHashTable.get_item\u001b[1;34m()\u001b[0m\n",
      "File \u001b[1;32mpandas\\_libs\\hashtable_class_helper.pxi:5753\u001b[0m, in \u001b[0;36mpandas._libs.hashtable.PyObjectHashTable.get_item\u001b[1;34m()\u001b[0m\n",
      "\u001b[1;31mKeyError\u001b[0m: 'GDP/cap.'",
      "\nThe above exception was the direct cause of the following exception:\n",
      "\u001b[1;31mKeyError\u001b[0m                                  Traceback (most recent call last)",
      "Cell \u001b[1;32mIn [132], line 1\u001b[0m\n\u001b[1;32m----> 1\u001b[0m gdp_full[\u001b[39m\"\u001b[39;49m\u001b[39mGDP/cap.\u001b[39;49m\u001b[39m\"\u001b[39;49m]\u001b[39m.\u001b[39mvalues\u001b[39m.\u001b[39mtolist()\n",
      "File \u001b[1;32mc:\\Users\\lawjo\\miniconda3\\lib\\site-packages\\pandas\\core\\frame.py:3804\u001b[0m, in \u001b[0;36mDataFrame.__getitem__\u001b[1;34m(self, key)\u001b[0m\n\u001b[0;32m   3802\u001b[0m \u001b[39mif\u001b[39;00m \u001b[39mself\u001b[39m\u001b[39m.\u001b[39mcolumns\u001b[39m.\u001b[39mnlevels \u001b[39m>\u001b[39m \u001b[39m1\u001b[39m:\n\u001b[0;32m   3803\u001b[0m     \u001b[39mreturn\u001b[39;00m \u001b[39mself\u001b[39m\u001b[39m.\u001b[39m_getitem_multilevel(key)\n\u001b[1;32m-> 3804\u001b[0m indexer \u001b[39m=\u001b[39m \u001b[39mself\u001b[39;49m\u001b[39m.\u001b[39;49mcolumns\u001b[39m.\u001b[39;49mget_loc(key)\n\u001b[0;32m   3805\u001b[0m \u001b[39mif\u001b[39;00m is_integer(indexer):\n\u001b[0;32m   3806\u001b[0m     indexer \u001b[39m=\u001b[39m [indexer]\n",
      "File \u001b[1;32mc:\\Users\\lawjo\\miniconda3\\lib\\site-packages\\pandas\\core\\indexes\\base.py:3805\u001b[0m, in \u001b[0;36mIndex.get_loc\u001b[1;34m(self, key, method, tolerance)\u001b[0m\n\u001b[0;32m   3803\u001b[0m     \u001b[39mreturn\u001b[39;00m \u001b[39mself\u001b[39m\u001b[39m.\u001b[39m_engine\u001b[39m.\u001b[39mget_loc(casted_key)\n\u001b[0;32m   3804\u001b[0m \u001b[39mexcept\u001b[39;00m \u001b[39mKeyError\u001b[39;00m \u001b[39mas\u001b[39;00m err:\n\u001b[1;32m-> 3805\u001b[0m     \u001b[39mraise\u001b[39;00m \u001b[39mKeyError\u001b[39;00m(key) \u001b[39mfrom\u001b[39;00m \u001b[39merr\u001b[39;00m\n\u001b[0;32m   3806\u001b[0m \u001b[39mexcept\u001b[39;00m \u001b[39mTypeError\u001b[39;00m:\n\u001b[0;32m   3807\u001b[0m     \u001b[39m# If we have a listlike key, _check_indexing_error will raise\u001b[39;00m\n\u001b[0;32m   3808\u001b[0m     \u001b[39m#  InvalidIndexError. Otherwise we fall through and re-raise\u001b[39;00m\n\u001b[0;32m   3809\u001b[0m     \u001b[39m#  the TypeError.\u001b[39;00m\n\u001b[0;32m   3810\u001b[0m     \u001b[39mself\u001b[39m\u001b[39m.\u001b[39m_check_indexing_error(key)\n",
      "\u001b[1;31mKeyError\u001b[0m: 'GDP/cap.'"
     ]
    }
   ],
   "source": [
    "gdp_full[\"GDP/cap.\"].values.tolist()"
   ]
  },
  {
   "cell_type": "markdown",
   "metadata": {},
   "source": [
    "Construct the MultiIndex object from the `'Code'` and `'Year'` columns."
   ]
  },
  {
   "cell_type": "code",
   "execution_count": null,
   "metadata": {},
   "outputs": [],
   "source": []
  },
  {
   "cell_type": "markdown",
   "metadata": {},
   "source": [
    "Using the array of GDP per capita values with the MultiIndex object as an index, we construct a Series object that is then unstacked to yield a DataFrame in the desired format."
   ]
  },
  {
   "cell_type": "code",
   "execution_count": null,
   "metadata": {},
   "outputs": [],
   "source": []
  },
  {
   "cell_type": "markdown",
   "metadata": {},
   "source": [
    "Rows and columns are swapped through the application of `transpose()`."
   ]
  },
  {
   "cell_type": "code",
   "execution_count": null,
   "metadata": {},
   "outputs": [],
   "source": []
  },
  {
   "cell_type": "markdown",
   "metadata": {},
   "source": [
    "Apply the `describe()` method to obtain summary statistics of a DataFrame."
   ]
  },
  {
   "cell_type": "code",
   "execution_count": null,
   "metadata": {},
   "outputs": [],
   "source": []
  },
  {
   "cell_type": "markdown",
   "metadata": {},
   "source": [
    "Apply the GroupBy mechanism to aggregate the GDP per capita data from the DataFrame `gdp_full` in decades, using `min`, `median`, and `max` as aggregation functions.\n",
    "\n",
    "*Hint*: Consult [section 3.08 Aggregation and Grouping](https://jakevdp.github.io/PythonDataScienceHandbook/03.08-aggregation-and-grouping.html) of the \n",
    "[Python Data Science Handbook by Jake Vanderplas](https://jakevdp.github.io/PythonDataScienceHandbook/) for an effective implementation of decade aggregation."
   ]
  },
  {
   "cell_type": "code",
   "execution_count": null,
   "metadata": {},
   "outputs": [],
   "source": []
  },
  {
   "cell_type": "markdown",
   "metadata": {},
   "source": [
    "## Assignment: Pivot tables [7]"
   ]
  },
  {
   "cell_type": "markdown",
   "metadata": {},
   "source": [
    "The pivot table below shows the median life expectancy at birth in the six decades since 1960 for selected intervals of GDP per capita in 2010 US\\$. As before, all statistics are based on the country distributions given in the files `life-expectancy-at-birth-total-years.csv` and `gdp-per-capita-in-us-dollar-world-bank.csv`.\n",
    "\n",
    "![](leb_gdpint_decade.png)\n",
    "\n",
    "Follow the instructions below to reproduce this pivot table."
   ]
  },
  {
   "cell_type": "markdown",
   "metadata": {},
   "source": [
    "Using the Pandas functions `read_csv()` and `merge()`, join the contents of the files `life-expectancy-at-birth-total-years.csv` and `gdp-per-capita-in-us-dollar-world-bank.csv` to obtain a single Pandas DataFrame object `leb_gdp`. Drop undefined data and world regions, keeping only data from indvidual countries, and rename inconveniently long column labels. See the first session of the Python Data Lab for an implementation of this sequence of operations."
   ]
  },
  {
   "cell_type": "code",
   "execution_count": 119,
   "metadata": {},
   "outputs": [
    {
     "data": {
      "text/html": [
       "<div>\n",
       "<style scoped>\n",
       "    .dataframe tbody tr th:only-of-type {\n",
       "        vertical-align: middle;\n",
       "    }\n",
       "\n",
       "    .dataframe tbody tr th {\n",
       "        vertical-align: top;\n",
       "    }\n",
       "\n",
       "    .dataframe thead th {\n",
       "        text-align: right;\n",
       "    }\n",
       "</style>\n",
       "<table border=\"1\" class=\"dataframe\">\n",
       "  <thead>\n",
       "    <tr style=\"text-align: right;\">\n",
       "      <th></th>\n",
       "      <th>Entity</th>\n",
       "      <th>Code</th>\n",
       "      <th>Year</th>\n",
       "      <th>Life expectancy at birth, total (years)</th>\n",
       "      <th>GDP per capita (constant 2010 US$)</th>\n",
       "    </tr>\n",
       "  </thead>\n",
       "  <tbody>\n",
       "    <tr>\n",
       "      <th>0</th>\n",
       "      <td>Afghanistan</td>\n",
       "      <td>AFG</td>\n",
       "      <td>2002</td>\n",
       "      <td>56.784</td>\n",
       "      <td>330.303494</td>\n",
       "    </tr>\n",
       "    <tr>\n",
       "      <th>1</th>\n",
       "      <td>Afghanistan</td>\n",
       "      <td>AFG</td>\n",
       "      <td>2003</td>\n",
       "      <td>57.271</td>\n",
       "      <td>343.080890</td>\n",
       "    </tr>\n",
       "    <tr>\n",
       "      <th>2</th>\n",
       "      <td>Afghanistan</td>\n",
       "      <td>AFG</td>\n",
       "      <td>2004</td>\n",
       "      <td>57.772</td>\n",
       "      <td>333.216617</td>\n",
       "    </tr>\n",
       "    <tr>\n",
       "      <th>3</th>\n",
       "      <td>Afghanistan</td>\n",
       "      <td>AFG</td>\n",
       "      <td>2005</td>\n",
       "      <td>58.290</td>\n",
       "      <td>357.234762</td>\n",
       "    </tr>\n",
       "    <tr>\n",
       "      <th>4</th>\n",
       "      <td>Afghanistan</td>\n",
       "      <td>AFG</td>\n",
       "      <td>2006</td>\n",
       "      <td>58.826</td>\n",
       "      <td>365.284371</td>\n",
       "    </tr>\n",
       "    <tr>\n",
       "      <th>...</th>\n",
       "      <td>...</td>\n",
       "      <td>...</td>\n",
       "      <td>...</td>\n",
       "      <td>...</td>\n",
       "      <td>...</td>\n",
       "    </tr>\n",
       "    <tr>\n",
       "      <th>11474</th>\n",
       "      <td>Zimbabwe</td>\n",
       "      <td>ZWE</td>\n",
       "      <td>2015</td>\n",
       "      <td>59.534</td>\n",
       "      <td>1234.102191</td>\n",
       "    </tr>\n",
       "    <tr>\n",
       "      <th>11475</th>\n",
       "      <td>Zimbabwe</td>\n",
       "      <td>ZWE</td>\n",
       "      <td>2016</td>\n",
       "      <td>60.294</td>\n",
       "      <td>1224.314460</td>\n",
       "    </tr>\n",
       "    <tr>\n",
       "      <th>11476</th>\n",
       "      <td>Zimbabwe</td>\n",
       "      <td>ZWE</td>\n",
       "      <td>2017</td>\n",
       "      <td>60.812</td>\n",
       "      <td>1263.278346</td>\n",
       "    </tr>\n",
       "    <tr>\n",
       "      <th>11477</th>\n",
       "      <td>Zimbabwe</td>\n",
       "      <td>ZWE</td>\n",
       "      <td>2018</td>\n",
       "      <td>61.195</td>\n",
       "      <td>1289.146499</td>\n",
       "    </tr>\n",
       "    <tr>\n",
       "      <th>11478</th>\n",
       "      <td>Zimbabwe</td>\n",
       "      <td>ZWE</td>\n",
       "      <td>2019</td>\n",
       "      <td>61.490</td>\n",
       "      <td>1168.008072</td>\n",
       "    </tr>\n",
       "  </tbody>\n",
       "</table>\n",
       "<p>11479 rows × 5 columns</p>\n",
       "</div>"
      ],
      "text/plain": [
       "            Entity Code  Year  Life expectancy at birth, total (years)  \\\n",
       "0      Afghanistan  AFG  2002                                   56.784   \n",
       "1      Afghanistan  AFG  2003                                   57.271   \n",
       "2      Afghanistan  AFG  2004                                   57.772   \n",
       "3      Afghanistan  AFG  2005                                   58.290   \n",
       "4      Afghanistan  AFG  2006                                   58.826   \n",
       "...            ...  ...   ...                                      ...   \n",
       "11474     Zimbabwe  ZWE  2015                                   59.534   \n",
       "11475     Zimbabwe  ZWE  2016                                   60.294   \n",
       "11476     Zimbabwe  ZWE  2017                                   60.812   \n",
       "11477     Zimbabwe  ZWE  2018                                   61.195   \n",
       "11478     Zimbabwe  ZWE  2019                                   61.490   \n",
       "\n",
       "       GDP per capita (constant 2010 US$)  \n",
       "0                              330.303494  \n",
       "1                              343.080890  \n",
       "2                              333.216617  \n",
       "3                              357.234762  \n",
       "4                              365.284371  \n",
       "...                                   ...  \n",
       "11474                         1234.102191  \n",
       "11475                         1224.314460  \n",
       "11476                         1263.278346  \n",
       "11477                         1289.146499  \n",
       "11478                         1168.008072  \n",
       "\n",
       "[11479 rows x 5 columns]"
      ]
     },
     "metadata": {},
     "output_type": "display_data"
    }
   ],
   "source": [
    "leb = pd.read_csv(\"life-expectancy-at-birth-total-years.csv\")\n",
    "gdp = pd.read_csv(\"gdp-per-capita-in-us-dollar-world-bank.csv\")\n",
    "leb_gdp = leb.merge(gdp)\n",
    "display(leb_gdp)"
   ]
  },
  {
   "cell_type": "markdown",
   "metadata": {},
   "source": [
    "Construct the variable `decade` from the `Year` column of the DataFrame `leb_gdp`."
   ]
  },
  {
   "cell_type": "code",
   "execution_count": 123,
   "metadata": {},
   "outputs": [
    {
     "name": "stdout",
     "output_type": "stream",
     "text": [
      "0        2000s\n",
      "1        2000s\n",
      "2        2000s\n",
      "3        2000s\n",
      "4        2000s\n",
      "         ...  \n",
      "11474    2010s\n",
      "11475    2010s\n",
      "11476    2010s\n",
      "11477    2010s\n",
      "11478    2010s\n",
      "Name: Decade, Length: 11479, dtype: object\n"
     ]
    }
   ],
   "source": [
    "decade = 10*( leb_gdp['Year'] // 10 )\n",
    "decade = decade.astype(str)+'s'\n",
    "decade.name = 'Decade'\n",
    "print(decade)"
   ]
  },
  {
   "cell_type": "markdown",
   "metadata": {},
   "source": [
    "Using the Pandas function `cut()`, define partitions of the GDP per capita data column in `leb_gdp` into intervals with boundaries `0,300,1000,3000,10000,30000,100000,300000`, and save them in the variable `gdp_partition`."
   ]
  },
  {
   "cell_type": "code",
   "execution_count": 125,
   "metadata": {},
   "outputs": [
    {
     "name": "stdout",
     "output_type": "stream",
     "text": [
      "0         (300, 1000]\n",
      "1         (300, 1000]\n",
      "2         (300, 1000]\n",
      "3         (300, 1000]\n",
      "4         (300, 1000]\n",
      "             ...     \n",
      "11474    (1000, 3000]\n",
      "11475    (1000, 3000]\n",
      "11476    (1000, 3000]\n",
      "11477    (1000, 3000]\n",
      "11478    (1000, 3000]\n",
      "Name: GDP per capita (constant 2010 US$), Length: 11479, dtype: category\n",
      "Categories (7, interval[int64, right]): [(0, 300] < (300, 1000] < (1000, 3000] < (3000, 10000] < (10000, 30000] < (30000, 100000] < (100000, 300000]]\n"
     ]
    }
   ],
   "source": [
    "gdp_partition = pd.cut(leb_gdp[\"GDP per capita (constant 2010 US$)\"],[0,300,1000,3000,10000,30000,100000,300000])\n",
    "print(gdp_partition)"
   ]
  },
  {
   "cell_type": "markdown",
   "metadata": {},
   "source": [
    "Call the Pandas function `pivot_table()` on the life expectancy at birth column as key variable, with `decade` and `gdp_partition` as further arguments, and `median` as the aggregation function. "
   ]
  },
  {
   "cell_type": "code",
   "execution_count": 131,
   "metadata": {},
   "outputs": [
    {
     "ename": "KeyError",
     "evalue": "Interval(300, 1000, closed='right')",
     "output_type": "error",
     "traceback": [
      "\u001b[1;31m---------------------------------------------------------------------------\u001b[0m",
      "\u001b[1;31mKeyError\u001b[0m                                  Traceback (most recent call last)",
      "Cell \u001b[1;32mIn [131], line 1\u001b[0m\n\u001b[1;32m----> 1\u001b[0m table \u001b[39m=\u001b[39m pd\u001b[39m.\u001b[39;49mpivot_table(leb_gdp[\u001b[39m\"\u001b[39;49m\u001b[39mLife expectancy at birth, total (years)\u001b[39;49m\u001b[39m\"\u001b[39;49m],values\u001b[39m=\u001b[39;49mgdp_partition,index\u001b[39m=\u001b[39;49mdecade,aggfunc\u001b[39m=\u001b[39;49mnp\u001b[39m.\u001b[39;49mmedian)\n",
      "File \u001b[1;32mc:\\Users\\lawjo\\miniconda3\\lib\\site-packages\\pandas\\core\\reshape\\pivot.py:96\u001b[0m, in \u001b[0;36mpivot_table\u001b[1;34m(data, values, index, columns, aggfunc, fill_value, margins, dropna, margins_name, observed, sort)\u001b[0m\n\u001b[0;32m     93\u001b[0m     table \u001b[39m=\u001b[39m concat(pieces, keys\u001b[39m=\u001b[39mkeys, axis\u001b[39m=\u001b[39m\u001b[39m1\u001b[39m)\n\u001b[0;32m     94\u001b[0m     \u001b[39mreturn\u001b[39;00m table\u001b[39m.\u001b[39m__finalize__(data, method\u001b[39m=\u001b[39m\u001b[39m\"\u001b[39m\u001b[39mpivot_table\u001b[39m\u001b[39m\"\u001b[39m)\n\u001b[1;32m---> 96\u001b[0m table \u001b[39m=\u001b[39m __internal_pivot_table(\n\u001b[0;32m     97\u001b[0m     data,\n\u001b[0;32m     98\u001b[0m     values,\n\u001b[0;32m     99\u001b[0m     index,\n\u001b[0;32m    100\u001b[0m     columns,\n\u001b[0;32m    101\u001b[0m     aggfunc,\n\u001b[0;32m    102\u001b[0m     fill_value,\n\u001b[0;32m    103\u001b[0m     margins,\n\u001b[0;32m    104\u001b[0m     dropna,\n\u001b[0;32m    105\u001b[0m     margins_name,\n\u001b[0;32m    106\u001b[0m     observed,\n\u001b[0;32m    107\u001b[0m     sort,\n\u001b[0;32m    108\u001b[0m )\n\u001b[0;32m    109\u001b[0m \u001b[39mreturn\u001b[39;00m table\u001b[39m.\u001b[39m__finalize__(data, method\u001b[39m=\u001b[39m\u001b[39m\"\u001b[39m\u001b[39mpivot_table\u001b[39m\u001b[39m\"\u001b[39m)\n",
      "File \u001b[1;32mc:\\Users\\lawjo\\miniconda3\\lib\\site-packages\\pandas\\core\\reshape\\pivot.py:142\u001b[0m, in \u001b[0;36m__internal_pivot_table\u001b[1;34m(data, values, index, columns, aggfunc, fill_value, margins, dropna, margins_name, observed, sort)\u001b[0m\n\u001b[0;32m    140\u001b[0m \u001b[39mfor\u001b[39;00m i \u001b[39min\u001b[39;00m values:\n\u001b[0;32m    141\u001b[0m     \u001b[39mif\u001b[39;00m i \u001b[39mnot\u001b[39;00m \u001b[39min\u001b[39;00m data:\n\u001b[1;32m--> 142\u001b[0m         \u001b[39mraise\u001b[39;00m \u001b[39mKeyError\u001b[39;00m(i)\n\u001b[0;32m    144\u001b[0m to_filter \u001b[39m=\u001b[39m []\n\u001b[0;32m    145\u001b[0m \u001b[39mfor\u001b[39;00m x \u001b[39min\u001b[39;00m keys \u001b[39m+\u001b[39m values:\n",
      "\u001b[1;31mKeyError\u001b[0m: Interval(300, 1000, closed='right')"
     ]
    }
   ],
   "source": [
    "table = pd.pivot_table(leb_gdp[\"Life expectancy at birth, total (years)\"],values=gdp_partition,index=decade,aggfunc=np.median)"
   ]
  },
  {
   "cell_type": "markdown",
   "metadata": {},
   "source": [
    "---\n",
    "---"
   ]
  }
 ],
 "metadata": {
  "kernelspec": {
   "display_name": "Python 3.9.12 ('base')",
   "language": "python",
   "name": "python3"
  },
  "language_info": {
   "codemirror_mode": {
    "name": "ipython",
    "version": 3
   },
   "file_extension": ".py",
   "mimetype": "text/x-python",
   "name": "python",
   "nbconvert_exporter": "python",
   "pygments_lexer": "ipython3",
   "version": "3.9.12"
  },
  "vscode": {
   "interpreter": {
    "hash": "9bc286b0a0b5031f51e8f5ca9ea244d34389e13ce7e7c61f775fbbcd30b022d5"
   }
  }
 },
 "nbformat": 4,
 "nbformat_minor": 4
}
